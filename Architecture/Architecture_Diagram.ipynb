{
 "cells": [
  {
   "cell_type": "code",
   "execution_count": 1,
   "metadata": {},
   "outputs": [
    {
     "name": "stdout",
     "output_type": "stream",
     "text": [
      "Collecting diagrams\n",
      "  Obtaining dependency information for diagrams from https://files.pythonhosted.org/packages/a9/e0/ec876b8bb5b2201e8d5e990bd2f7f8b2f3e654316522dfd520c59291d3c0/diagrams-0.23.4-py3-none-any.whl.metadata\n",
      "  Downloading diagrams-0.23.4-py3-none-any.whl.metadata (7.0 kB)\n",
      "Requirement already satisfied: graphviz<0.21.0,>=0.13.2 in /Users/aniketpatole/anaconda3/lib/python3.11/site-packages (from diagrams) (0.20.1)\n",
      "Requirement already satisfied: jinja2<4.0,>=2.10 in /Users/aniketpatole/anaconda3/lib/python3.11/site-packages (from diagrams) (3.1.2)\n",
      "Collecting typed-ast<2.0.0,>=1.5.4 (from diagrams)\n",
      "  Obtaining dependency information for typed-ast<2.0.0,>=1.5.4 from https://files.pythonhosted.org/packages/96/fd/fc8ccf19fc16a40a23e7c7802d0abc78c1f38f1abb6e2447c474f8a076d8/typed_ast-1.5.5-cp311-cp311-macosx_11_0_arm64.whl.metadata\n",
      "  Downloading typed_ast-1.5.5-cp311-cp311-macosx_11_0_arm64.whl.metadata (1.7 kB)\n",
      "Requirement already satisfied: MarkupSafe>=2.0 in /Users/aniketpatole/anaconda3/lib/python3.11/site-packages (from jinja2<4.0,>=2.10->diagrams) (2.1.1)\n",
      "Downloading diagrams-0.23.4-py3-none-any.whl (24.6 MB)\n",
      "\u001b[2K   \u001b[90m━━━━━━━━━━━━━━━━━━━━━━━━━━━━━━━━━━━━━━━━\u001b[0m \u001b[32m24.6/24.6 MB\u001b[0m \u001b[31m5.3 MB/s\u001b[0m eta \u001b[36m0:00:00\u001b[0m00:01\u001b[0m00:01\u001b[0m\n",
      "\u001b[?25hDownloading typed_ast-1.5.5-cp311-cp311-macosx_11_0_arm64.whl (208 kB)\n",
      "\u001b[2K   \u001b[90m━━━━━━━━━━━━━━━━━━━━━━━━━━━━━━━━━━━━━━━━\u001b[0m \u001b[32m208.2/208.2 kB\u001b[0m \u001b[31m5.6 MB/s\u001b[0m eta \u001b[36m0:00:00\u001b[0m\n",
      "\u001b[?25hInstalling collected packages: typed-ast, diagrams\n",
      "Successfully installed diagrams-0.23.4 typed-ast-1.5.5\n"
     ]
    }
   ],
   "source": [
    "!pip install diagrams"
   ]
  },
  {
   "cell_type": "code",
   "execution_count": 14,
   "metadata": {},
   "outputs": [
    {
     "ename": "CalledProcessError",
     "evalue": "Command '[PosixPath('dot'), '-Kdot', '-Tpng', '-O', 'streamlit_workflow_architecture']' died with <Signals.SIGTRAP: 5>. [stderr: b\"Warning: node 'ab1684d1d41d4288947644bfbae19f90', graph 'Streamlit Workflow Architecture' size too small for label\\nWarning: node 'dc27aa03228445dfad7f86d14da8ded4', graph 'Streamlit Workflow Architecture' size too small for label\\nWarning: node 'c7af51e5f0e64429a248fb79a20778c3', graph 'Streamlit Workflow Architecture' size too small for label\\nWarning: Orthogonal edges do not currently handle edge labels. Try using xlabels.\\n\"]",
     "output_type": "error",
     "traceback": [
      "\u001b[0;31m---------------------------------------------------------------------------\u001b[0m",
      "\u001b[0;31mCalledProcessError\u001b[0m                        Traceback (most recent call last)",
      "File \u001b[0;32m~/anaconda3/lib/python3.11/site-packages/graphviz/backend/execute.py:91\u001b[0m, in \u001b[0;36mrun_check\u001b[0;34m(cmd, input_lines, encoding, quiet, **kwargs)\u001b[0m\n\u001b[1;32m     90\u001b[0m \u001b[39mtry\u001b[39;00m:\n\u001b[0;32m---> 91\u001b[0m     proc\u001b[39m.\u001b[39mcheck_returncode()\n\u001b[1;32m     92\u001b[0m \u001b[39mexcept\u001b[39;00m subprocess\u001b[39m.\u001b[39mCalledProcessError \u001b[39mas\u001b[39;00m e:\n",
      "File \u001b[0;32m~/anaconda3/lib/python3.11/subprocess.py:502\u001b[0m, in \u001b[0;36mCompletedProcess.check_returncode\u001b[0;34m(self)\u001b[0m\n\u001b[1;32m    501\u001b[0m \u001b[39mif\u001b[39;00m \u001b[39mself\u001b[39m\u001b[39m.\u001b[39mreturncode:\n\u001b[0;32m--> 502\u001b[0m     \u001b[39mraise\u001b[39;00m CalledProcessError(\u001b[39mself\u001b[39m\u001b[39m.\u001b[39mreturncode, \u001b[39mself\u001b[39m\u001b[39m.\u001b[39margs, \u001b[39mself\u001b[39m\u001b[39m.\u001b[39mstdout,\n\u001b[1;32m    503\u001b[0m                              \u001b[39mself\u001b[39m\u001b[39m.\u001b[39mstderr)\n",
      "\u001b[0;31mCalledProcessError\u001b[0m: Command '[PosixPath('dot'), '-Kdot', '-Tpng', '-O', 'streamlit_workflow_architecture']' died with <Signals.SIGTRAP: 5>.",
      "\nDuring handling of the above exception, another exception occurred:\n",
      "\u001b[0;31mCalledProcessError\u001b[0m                        Traceback (most recent call last)",
      "\u001b[1;32m/Users/aniketpatole/Documents/GitHub/New/Projects/BigData/Assignment1/Architecture_Diagram.ipynb Cell 2\u001b[0m line \u001b[0;36m1\n\u001b[1;32m      <a href='vscode-notebook-cell:/Users/aniketpatole/Documents/GitHub/New/Projects/BigData/Assignment1/Architecture_Diagram.ipynb#W1sZmlsZQ%3D%3D?line=6'>7</a>\u001b[0m \u001b[39mfrom\u001b[39;00m \u001b[39mdiagrams\u001b[39;00m\u001b[39m.\u001b[39;00m\u001b[39monprem\u001b[39;00m\u001b[39m.\u001b[39;00m\u001b[39manalytics\u001b[39;00m \u001b[39mimport\u001b[39;00m Powerbi\n\u001b[1;32m      <a href='vscode-notebook-cell:/Users/aniketpatole/Documents/GitHub/New/Projects/BigData/Assignment1/Architecture_Diagram.ipynb#W1sZmlsZQ%3D%3D?line=8'>9</a>\u001b[0m \u001b[39m# Create a new architecture diagram\u001b[39;00m\n\u001b[0;32m---> <a href='vscode-notebook-cell:/Users/aniketpatole/Documents/GitHub/New/Projects/BigData/Assignment1/Architecture_Diagram.ipynb#W1sZmlsZQ%3D%3D?line=9'>10</a>\u001b[0m \u001b[39mwith\u001b[39;00m Diagram(\u001b[39m\"\u001b[39m\u001b[39mStreamlit Workflow Architecture\u001b[39m\u001b[39m\"\u001b[39m, show\u001b[39m=\u001b[39m\u001b[39mFalse\u001b[39;00m, graph_attr\u001b[39m=\u001b[39m{\u001b[39m\"\u001b[39m\u001b[39msize\u001b[39m\u001b[39m\"\u001b[39m: \u001b[39m\"\u001b[39m\u001b[39m15,15\u001b[39m\u001b[39m\"\u001b[39m, \u001b[39m\"\u001b[39m\u001b[39mdpi\u001b[39m\u001b[39m\"\u001b[39m: \u001b[39m\"\u001b[39m\u001b[39m300\u001b[39m\u001b[39m\"\u001b[39m}):\n\u001b[1;32m     <a href='vscode-notebook-cell:/Users/aniketpatole/Documents/GitHub/New/Projects/BigData/Assignment1/Architecture_Diagram.ipynb#W1sZmlsZQ%3D%3D?line=10'>11</a>\u001b[0m     \n\u001b[1;32m     <a href='vscode-notebook-cell:/Users/aniketpatole/Documents/GitHub/New/Projects/BigData/Assignment1/Architecture_Diagram.ipynb#W1sZmlsZQ%3D%3D?line=11'>12</a>\u001b[0m     \u001b[39m# User accessing the Streamlit frontend\u001b[39;00m\n\u001b[1;32m     <a href='vscode-notebook-cell:/Users/aniketpatole/Documents/GitHub/New/Projects/BigData/Assignment1/Architecture_Diagram.ipynb#W1sZmlsZQ%3D%3D?line=12'>13</a>\u001b[0m     user \u001b[39m=\u001b[39m Users(\u001b[39m\"\u001b[39m\u001b[39mUser\u001b[39m\u001b[39m\"\u001b[39m)\n\u001b[1;32m     <a href='vscode-notebook-cell:/Users/aniketpatole/Documents/GitHub/New/Projects/BigData/Assignment1/Architecture_Diagram.ipynb#W1sZmlsZQ%3D%3D?line=14'>15</a>\u001b[0m     \u001b[39m# Amazon S3 bucket for storing files\u001b[39;00m\n",
      "File \u001b[0;32m~/anaconda3/lib/python3.11/site-packages/diagrams/__init__.py:164\u001b[0m, in \u001b[0;36mDiagram.__exit__\u001b[0;34m(self, exc_type, exc_value, traceback)\u001b[0m\n\u001b[1;32m    163\u001b[0m \u001b[39mdef\u001b[39;00m \u001b[39m__exit__\u001b[39m(\u001b[39mself\u001b[39m, exc_type, exc_value, traceback):\n\u001b[0;32m--> 164\u001b[0m     \u001b[39mself\u001b[39m\u001b[39m.\u001b[39mrender()\n\u001b[1;32m    165\u001b[0m     \u001b[39m# Remove the graphviz file leaving only the image.\u001b[39;00m\n\u001b[1;32m    166\u001b[0m     os\u001b[39m.\u001b[39mremove(\u001b[39mself\u001b[39m\u001b[39m.\u001b[39mfilename)\n",
      "File \u001b[0;32m~/anaconda3/lib/python3.11/site-packages/diagrams/__init__.py:198\u001b[0m, in \u001b[0;36mDiagram.render\u001b[0;34m(self)\u001b[0m\n\u001b[1;32m    196\u001b[0m         \u001b[39mself\u001b[39m\u001b[39m.\u001b[39mdot\u001b[39m.\u001b[39mrender(\u001b[39mformat\u001b[39m\u001b[39m=\u001b[39mone_format, view\u001b[39m=\u001b[39m\u001b[39mself\u001b[39m\u001b[39m.\u001b[39mshow, quiet\u001b[39m=\u001b[39m\u001b[39mTrue\u001b[39;00m)\n\u001b[1;32m    197\u001b[0m \u001b[39melse\u001b[39;00m:\n\u001b[0;32m--> 198\u001b[0m     \u001b[39mself\u001b[39m\u001b[39m.\u001b[39mdot\u001b[39m.\u001b[39mrender(\u001b[39mformat\u001b[39m\u001b[39m=\u001b[39m\u001b[39mself\u001b[39m\u001b[39m.\u001b[39moutformat, view\u001b[39m=\u001b[39m\u001b[39mself\u001b[39m\u001b[39m.\u001b[39mshow, quiet\u001b[39m=\u001b[39m\u001b[39mTrue\u001b[39;00m)\n",
      "File \u001b[0;32m~/anaconda3/lib/python3.11/site-packages/graphviz/_tools.py:171\u001b[0m, in \u001b[0;36mdeprecate_positional_args.<locals>.decorator.<locals>.wrapper\u001b[0;34m(*args, **kwargs)\u001b[0m\n\u001b[1;32m    162\u001b[0m     wanted \u001b[39m=\u001b[39m \u001b[39m'\u001b[39m\u001b[39m, \u001b[39m\u001b[39m'\u001b[39m\u001b[39m.\u001b[39mjoin(\u001b[39mf\u001b[39m\u001b[39m'\u001b[39m\u001b[39m{\u001b[39;00mname\u001b[39m}\u001b[39;00m\u001b[39m=\u001b[39m\u001b[39m{\u001b[39;00mvalue\u001b[39m!r}\u001b[39;00m\u001b[39m'\u001b[39m\n\u001b[1;32m    163\u001b[0m                        \u001b[39mfor\u001b[39;00m name, value \u001b[39min\u001b[39;00m deprecated\u001b[39m.\u001b[39mitems())\n\u001b[1;32m    164\u001b[0m     warnings\u001b[39m.\u001b[39mwarn(\u001b[39mf\u001b[39m\u001b[39m'\u001b[39m\u001b[39mThe signature of \u001b[39m\u001b[39m{\u001b[39;00mfunc\u001b[39m.\u001b[39m\u001b[39m__name__\u001b[39m\u001b[39m}\u001b[39;00m\u001b[39m will be reduced\u001b[39m\u001b[39m'\u001b[39m\n\u001b[1;32m    165\u001b[0m                   \u001b[39mf\u001b[39m\u001b[39m'\u001b[39m\u001b[39m to \u001b[39m\u001b[39m{\u001b[39;00msupported_number\u001b[39m}\u001b[39;00m\u001b[39m positional args\u001b[39m\u001b[39m'\u001b[39m\n\u001b[1;32m    166\u001b[0m                   \u001b[39mf\u001b[39m\u001b[39m'\u001b[39m\u001b[39m \u001b[39m\u001b[39m{\u001b[39;00m\u001b[39mlist\u001b[39m(supported)\u001b[39m}\u001b[39;00m\u001b[39m: pass \u001b[39m\u001b[39m{\u001b[39;00mwanted\u001b[39m}\u001b[39;00m\u001b[39m'\u001b[39m\n\u001b[1;32m    167\u001b[0m                   \u001b[39m'\u001b[39m\u001b[39m as keyword arg(s)\u001b[39m\u001b[39m'\u001b[39m,\n\u001b[1;32m    168\u001b[0m                   stacklevel\u001b[39m=\u001b[39mstacklevel,\n\u001b[1;32m    169\u001b[0m                   category\u001b[39m=\u001b[39mcategory)\n\u001b[0;32m--> 171\u001b[0m \u001b[39mreturn\u001b[39;00m func(\u001b[39m*\u001b[39margs, \u001b[39m*\u001b[39m\u001b[39m*\u001b[39mkwargs)\n",
      "File \u001b[0;32m~/anaconda3/lib/python3.11/site-packages/graphviz/rendering.py:122\u001b[0m, in \u001b[0;36mRender.render\u001b[0;34m(self, filename, directory, view, cleanup, format, renderer, formatter, neato_no_op, quiet, quiet_view, outfile, engine, raise_if_result_exists, overwrite_source)\u001b[0m\n\u001b[1;32m    118\u001b[0m filepath \u001b[39m=\u001b[39m \u001b[39mself\u001b[39m\u001b[39m.\u001b[39msave(filename, directory\u001b[39m=\u001b[39mdirectory, skip_existing\u001b[39m=\u001b[39m\u001b[39mNone\u001b[39;00m)\n\u001b[1;32m    120\u001b[0m args\u001b[39m.\u001b[39mappend(filepath)\n\u001b[0;32m--> 122\u001b[0m rendered \u001b[39m=\u001b[39m \u001b[39mself\u001b[39m\u001b[39m.\u001b[39m_render(\u001b[39m*\u001b[39margs, \u001b[39m*\u001b[39m\u001b[39m*\u001b[39mkwargs)\n\u001b[1;32m    124\u001b[0m \u001b[39mif\u001b[39;00m cleanup:\n\u001b[1;32m    125\u001b[0m     log\u001b[39m.\u001b[39mdebug(\u001b[39m'\u001b[39m\u001b[39mdelete \u001b[39m\u001b[39m%r\u001b[39;00m\u001b[39m'\u001b[39m, filepath)\n",
      "File \u001b[0;32m~/anaconda3/lib/python3.11/site-packages/graphviz/_tools.py:171\u001b[0m, in \u001b[0;36mdeprecate_positional_args.<locals>.decorator.<locals>.wrapper\u001b[0;34m(*args, **kwargs)\u001b[0m\n\u001b[1;32m    162\u001b[0m     wanted \u001b[39m=\u001b[39m \u001b[39m'\u001b[39m\u001b[39m, \u001b[39m\u001b[39m'\u001b[39m\u001b[39m.\u001b[39mjoin(\u001b[39mf\u001b[39m\u001b[39m'\u001b[39m\u001b[39m{\u001b[39;00mname\u001b[39m}\u001b[39;00m\u001b[39m=\u001b[39m\u001b[39m{\u001b[39;00mvalue\u001b[39m!r}\u001b[39;00m\u001b[39m'\u001b[39m\n\u001b[1;32m    163\u001b[0m                        \u001b[39mfor\u001b[39;00m name, value \u001b[39min\u001b[39;00m deprecated\u001b[39m.\u001b[39mitems())\n\u001b[1;32m    164\u001b[0m     warnings\u001b[39m.\u001b[39mwarn(\u001b[39mf\u001b[39m\u001b[39m'\u001b[39m\u001b[39mThe signature of \u001b[39m\u001b[39m{\u001b[39;00mfunc\u001b[39m.\u001b[39m\u001b[39m__name__\u001b[39m\u001b[39m}\u001b[39;00m\u001b[39m will be reduced\u001b[39m\u001b[39m'\u001b[39m\n\u001b[1;32m    165\u001b[0m                   \u001b[39mf\u001b[39m\u001b[39m'\u001b[39m\u001b[39m to \u001b[39m\u001b[39m{\u001b[39;00msupported_number\u001b[39m}\u001b[39;00m\u001b[39m positional args\u001b[39m\u001b[39m'\u001b[39m\n\u001b[1;32m    166\u001b[0m                   \u001b[39mf\u001b[39m\u001b[39m'\u001b[39m\u001b[39m \u001b[39m\u001b[39m{\u001b[39;00m\u001b[39mlist\u001b[39m(supported)\u001b[39m}\u001b[39;00m\u001b[39m: pass \u001b[39m\u001b[39m{\u001b[39;00mwanted\u001b[39m}\u001b[39;00m\u001b[39m'\u001b[39m\n\u001b[1;32m    167\u001b[0m                   \u001b[39m'\u001b[39m\u001b[39m as keyword arg(s)\u001b[39m\u001b[39m'\u001b[39m,\n\u001b[1;32m    168\u001b[0m                   stacklevel\u001b[39m=\u001b[39mstacklevel,\n\u001b[1;32m    169\u001b[0m                   category\u001b[39m=\u001b[39mcategory)\n\u001b[0;32m--> 171\u001b[0m \u001b[39mreturn\u001b[39;00m func(\u001b[39m*\u001b[39margs, \u001b[39m*\u001b[39m\u001b[39m*\u001b[39mkwargs)\n",
      "File \u001b[0;32m~/anaconda3/lib/python3.11/site-packages/graphviz/backend/rendering.py:324\u001b[0m, in \u001b[0;36mrender\u001b[0;34m(engine, format, filepath, renderer, formatter, neato_no_op, quiet, outfile, raise_if_result_exists, overwrite_filepath)\u001b[0m\n\u001b[1;32m    320\u001b[0m     \u001b[39mraise\u001b[39;00m exceptions\u001b[39m.\u001b[39mFileExistsError(\u001b[39mf\u001b[39m\u001b[39m'\u001b[39m\u001b[39moutput file exists: \u001b[39m\u001b[39m{\u001b[39;00mos\u001b[39m.\u001b[39mfspath(outfile)\u001b[39m!r}\u001b[39;00m\u001b[39m'\u001b[39m)\n\u001b[1;32m    322\u001b[0m cmd \u001b[39m+\u001b[39m\u001b[39m=\u001b[39m args\n\u001b[0;32m--> 324\u001b[0m execute\u001b[39m.\u001b[39mrun_check(cmd,\n\u001b[1;32m    325\u001b[0m                   cwd\u001b[39m=\u001b[39mfilepath\u001b[39m.\u001b[39mparent \u001b[39mif\u001b[39;00m filepath\u001b[39m.\u001b[39mparent\u001b[39m.\u001b[39mparts \u001b[39melse\u001b[39;00m \u001b[39mNone\u001b[39;00m,\n\u001b[1;32m    326\u001b[0m                   quiet\u001b[39m=\u001b[39mquiet,\n\u001b[1;32m    327\u001b[0m                   capture_output\u001b[39m=\u001b[39m\u001b[39mTrue\u001b[39;00m)\n\u001b[1;32m    329\u001b[0m \u001b[39mreturn\u001b[39;00m os\u001b[39m.\u001b[39mfspath(outfile)\n",
      "File \u001b[0;32m~/anaconda3/lib/python3.11/site-packages/graphviz/backend/execute.py:93\u001b[0m, in \u001b[0;36mrun_check\u001b[0;34m(cmd, input_lines, encoding, quiet, **kwargs)\u001b[0m\n\u001b[1;32m     91\u001b[0m     proc\u001b[39m.\u001b[39mcheck_returncode()\n\u001b[1;32m     92\u001b[0m \u001b[39mexcept\u001b[39;00m subprocess\u001b[39m.\u001b[39mCalledProcessError \u001b[39mas\u001b[39;00m e:\n\u001b[0;32m---> 93\u001b[0m     \u001b[39mraise\u001b[39;00m CalledProcessError(\u001b[39m*\u001b[39me\u001b[39m.\u001b[39margs)\n\u001b[1;32m     95\u001b[0m \u001b[39mreturn\u001b[39;00m proc\n",
      "\u001b[0;31mCalledProcessError\u001b[0m: Command '[PosixPath('dot'), '-Kdot', '-Tpng', '-O', 'streamlit_workflow_architecture']' died with <Signals.SIGTRAP: 5>. [stderr: b\"Warning: node 'ab1684d1d41d4288947644bfbae19f90', graph 'Streamlit Workflow Architecture' size too small for label\\nWarning: node 'dc27aa03228445dfad7f86d14da8ded4', graph 'Streamlit Workflow Architecture' size too small for label\\nWarning: node 'c7af51e5f0e64429a248fb79a20778c3', graph 'Streamlit Workflow Architecture' size too small for label\\nWarning: Orthogonal edges do not currently handle edge labels. Try using xlabels.\\n\"]"
     ]
    }
   ],
   "source": [
    "from diagrams import Diagram, Cluster, Edge\n",
    "from diagrams.aws.storage import S3\n",
    "from diagrams.onprem.database import PostgreSQL\n",
    "from diagrams.custom import Custom\n",
    "from diagrams.onprem.client import Users\n",
    "from diagrams.programming.flowchart import Decision\n",
    "from diagrams.onprem.analytics import Powerbi\n",
    "\n",
    "# Create a new architecture diagram\n",
    "with Diagram(\"Streamlit Workflow Architecture\", show=False, graph_attr={\"size\": \"15,15\", \"dpi\": \"300\"}):\n",
    "    \n",
    "    # User accessing the Streamlit frontend\n",
    "    user = Users(\"User\")\n",
    "    \n",
    "    # Amazon S3 bucket for storing files\n",
    "    s3_storage = S3(\"Amazon S3 Bucket\")\n",
    "    \n",
    "    # PostgreSQL for both structured and unstructured data\n",
    "    db = PostgreSQL(\"PostgreSQL\")\n",
    "    \n",
    "    # Custom OpenAI node (replace './openai.png' with your image path)\n",
    "    openai = Custom(\"OpenAI API\", \"./openai.png\")\n",
    "    \n",
    "    # PowerBI for analytics and reporting\n",
    "    powerbi = Powerbi(\"Power BI Analytics\")\n",
    "    \n",
    "    # Streamlit frontend\n",
    "    with Cluster(\"Streamlit Frontend\"):\n",
    "        streamlit_app = Custom(\"Streamlit Application\", \"./Streamlit.png\") # Use a relevant image if necessary\n",
    "        \n",
    "    # Data flow from S3 to PostgreSQL and OpenAI API\n",
    "    user >> Edge(label=\"Interacts with\") >> streamlit_app\n",
    "    streamlit_app >> Edge(label=\"File Storage\") >> s3_storage\n",
    "    streamlit_app >> Edge(label=\"Data Access\") >> db\n",
    "    streamlit_app >> Edge(label=\"Evaluate Model\") >> openai\n",
    "    streamlit_app >> Edge(label=\"Generate Reports\") >> powerbi"
   ]
  },
  {
   "cell_type": "code",
   "execution_count": 13,
   "metadata": {},
   "outputs": [
    {
     "ename": "CalledProcessError",
     "evalue": "Command '[PosixPath('dot'), '-Kdot', '-Tpng', '-O', 'streamlit_workflow_architecture']' died with <Signals.SIGTRAP: 5>. [stderr: b'Warning: No such file or directory while opening huggingface.png\\nWarning: No or improper image=\"huggingface.png\" for node \"2d861cf0d3684ac0af2a24fb3bde7b3a\"\\nWarning: node \\'2d861cf0d3684ac0af2a24fb3bde7b3a\\', graph \\'Streamlit Workflow Architecture\\' size too small for label\\nWarning: node \\'bfe55b5c9b094495ab6b9fd47562dd91\\', graph \\'Streamlit Workflow Architecture\\' size too small for label\\nWarning: node \\'528906bd64064b5e847f4e722bdd9795\\', graph \\'Streamlit Workflow Architecture\\' size too small for label\\nWarning: node \\'1d95bbe3a1124189a8b5851ff84a41cd\\', graph \\'Streamlit Workflow Architecture\\' size too small for label\\nWarning: node \\'e34caed110b747158b590605fa65231e\\', graph \\'Streamlit Workflow Architecture\\' size too small for label\\nWarning: Orthogonal edges do not currently handle edge labels. Try using xlabels.\\n']",
     "output_type": "error",
     "traceback": [
      "\u001b[0;31m---------------------------------------------------------------------------\u001b[0m",
      "\u001b[0;31mCalledProcessError\u001b[0m                        Traceback (most recent call last)",
      "File \u001b[0;32m~/anaconda3/lib/python3.11/site-packages/graphviz/backend/execute.py:91\u001b[0m, in \u001b[0;36mrun_check\u001b[0;34m(cmd, input_lines, encoding, quiet, **kwargs)\u001b[0m\n\u001b[1;32m     90\u001b[0m \u001b[39mtry\u001b[39;00m:\n\u001b[0;32m---> 91\u001b[0m     proc\u001b[39m.\u001b[39mcheck_returncode()\n\u001b[1;32m     92\u001b[0m \u001b[39mexcept\u001b[39;00m subprocess\u001b[39m.\u001b[39mCalledProcessError \u001b[39mas\u001b[39;00m e:\n",
      "File \u001b[0;32m~/anaconda3/lib/python3.11/subprocess.py:502\u001b[0m, in \u001b[0;36mCompletedProcess.check_returncode\u001b[0;34m(self)\u001b[0m\n\u001b[1;32m    501\u001b[0m \u001b[39mif\u001b[39;00m \u001b[39mself\u001b[39m\u001b[39m.\u001b[39mreturncode:\n\u001b[0;32m--> 502\u001b[0m     \u001b[39mraise\u001b[39;00m CalledProcessError(\u001b[39mself\u001b[39m\u001b[39m.\u001b[39mreturncode, \u001b[39mself\u001b[39m\u001b[39m.\u001b[39margs, \u001b[39mself\u001b[39m\u001b[39m.\u001b[39mstdout,\n\u001b[1;32m    503\u001b[0m                              \u001b[39mself\u001b[39m\u001b[39m.\u001b[39mstderr)\n",
      "\u001b[0;31mCalledProcessError\u001b[0m: Command '[PosixPath('dot'), '-Kdot', '-Tpng', '-O', 'streamlit_workflow_architecture']' died with <Signals.SIGTRAP: 5>.",
      "\nDuring handling of the above exception, another exception occurred:\n",
      "\u001b[0;31mCalledProcessError\u001b[0m                        Traceback (most recent call last)",
      "\u001b[1;32m/Users/aniketpatole/Documents/GitHub/New/Projects/BigData/Assignment1/Architecture_Diagram.ipynb Cell 3\u001b[0m line \u001b[0;36m1\n\u001b[1;32m     <a href='vscode-notebook-cell:/Users/aniketpatole/Documents/GitHub/New/Projects/BigData/Assignment1/Architecture_Diagram.ipynb#W3sZmlsZQ%3D%3D?line=11'>12</a>\u001b[0m streamlit_icon \u001b[39m=\u001b[39m \u001b[39m\"\u001b[39m\u001b[39mstreamlit.png\u001b[39m\u001b[39m\"\u001b[39m  \u001b[39m# Replace with the path to Streamlit icon\u001b[39;00m\n\u001b[1;32m     <a href='vscode-notebook-cell:/Users/aniketpatole/Documents/GitHub/New/Projects/BigData/Assignment1/Architecture_Diagram.ipynb#W3sZmlsZQ%3D%3D?line=13'>14</a>\u001b[0m \u001b[39m# Create the architecture diagram\u001b[39;00m\n\u001b[0;32m---> <a href='vscode-notebook-cell:/Users/aniketpatole/Documents/GitHub/New/Projects/BigData/Assignment1/Architecture_Diagram.ipynb#W3sZmlsZQ%3D%3D?line=14'>15</a>\u001b[0m \u001b[39mwith\u001b[39;00m Diagram(\u001b[39m\"\u001b[39m\u001b[39mStreamlit Workflow Architecture\u001b[39m\u001b[39m\"\u001b[39m, show\u001b[39m=\u001b[39m\u001b[39mFalse\u001b[39;00m):\n\u001b[1;32m     <a href='vscode-notebook-cell:/Users/aniketpatole/Documents/GitHub/New/Projects/BigData/Assignment1/Architecture_Diagram.ipynb#W3sZmlsZQ%3D%3D?line=15'>16</a>\u001b[0m     \n\u001b[1;32m     <a href='vscode-notebook-cell:/Users/aniketpatole/Documents/GitHub/New/Projects/BigData/Assignment1/Architecture_Diagram.ipynb#W3sZmlsZQ%3D%3D?line=16'>17</a>\u001b[0m     \u001b[39m# User accessing the Streamlit frontend\u001b[39;00m\n\u001b[1;32m     <a href='vscode-notebook-cell:/Users/aniketpatole/Documents/GitHub/New/Projects/BigData/Assignment1/Architecture_Diagram.ipynb#W3sZmlsZQ%3D%3D?line=17'>18</a>\u001b[0m     user \u001b[39m=\u001b[39m Users(\u001b[39m\"\u001b[39m\u001b[39mUser\u001b[39m\u001b[39m\"\u001b[39m)\n\u001b[1;32m     <a href='vscode-notebook-cell:/Users/aniketpatole/Documents/GitHub/New/Projects/BigData/Assignment1/Architecture_Diagram.ipynb#W3sZmlsZQ%3D%3D?line=19'>20</a>\u001b[0m     \u001b[39m# Hugging Face for fetching data\u001b[39;00m\n",
      "File \u001b[0;32m~/anaconda3/lib/python3.11/site-packages/diagrams/__init__.py:164\u001b[0m, in \u001b[0;36mDiagram.__exit__\u001b[0;34m(self, exc_type, exc_value, traceback)\u001b[0m\n\u001b[1;32m    163\u001b[0m \u001b[39mdef\u001b[39;00m \u001b[39m__exit__\u001b[39m(\u001b[39mself\u001b[39m, exc_type, exc_value, traceback):\n\u001b[0;32m--> 164\u001b[0m     \u001b[39mself\u001b[39m\u001b[39m.\u001b[39mrender()\n\u001b[1;32m    165\u001b[0m     \u001b[39m# Remove the graphviz file leaving only the image.\u001b[39;00m\n\u001b[1;32m    166\u001b[0m     os\u001b[39m.\u001b[39mremove(\u001b[39mself\u001b[39m\u001b[39m.\u001b[39mfilename)\n",
      "File \u001b[0;32m~/anaconda3/lib/python3.11/site-packages/diagrams/__init__.py:198\u001b[0m, in \u001b[0;36mDiagram.render\u001b[0;34m(self)\u001b[0m\n\u001b[1;32m    196\u001b[0m         \u001b[39mself\u001b[39m\u001b[39m.\u001b[39mdot\u001b[39m.\u001b[39mrender(\u001b[39mformat\u001b[39m\u001b[39m=\u001b[39mone_format, view\u001b[39m=\u001b[39m\u001b[39mself\u001b[39m\u001b[39m.\u001b[39mshow, quiet\u001b[39m=\u001b[39m\u001b[39mTrue\u001b[39;00m)\n\u001b[1;32m    197\u001b[0m \u001b[39melse\u001b[39;00m:\n\u001b[0;32m--> 198\u001b[0m     \u001b[39mself\u001b[39m\u001b[39m.\u001b[39mdot\u001b[39m.\u001b[39mrender(\u001b[39mformat\u001b[39m\u001b[39m=\u001b[39m\u001b[39mself\u001b[39m\u001b[39m.\u001b[39moutformat, view\u001b[39m=\u001b[39m\u001b[39mself\u001b[39m\u001b[39m.\u001b[39mshow, quiet\u001b[39m=\u001b[39m\u001b[39mTrue\u001b[39;00m)\n",
      "File \u001b[0;32m~/anaconda3/lib/python3.11/site-packages/graphviz/_tools.py:171\u001b[0m, in \u001b[0;36mdeprecate_positional_args.<locals>.decorator.<locals>.wrapper\u001b[0;34m(*args, **kwargs)\u001b[0m\n\u001b[1;32m    162\u001b[0m     wanted \u001b[39m=\u001b[39m \u001b[39m'\u001b[39m\u001b[39m, \u001b[39m\u001b[39m'\u001b[39m\u001b[39m.\u001b[39mjoin(\u001b[39mf\u001b[39m\u001b[39m'\u001b[39m\u001b[39m{\u001b[39;00mname\u001b[39m}\u001b[39;00m\u001b[39m=\u001b[39m\u001b[39m{\u001b[39;00mvalue\u001b[39m!r}\u001b[39;00m\u001b[39m'\u001b[39m\n\u001b[1;32m    163\u001b[0m                        \u001b[39mfor\u001b[39;00m name, value \u001b[39min\u001b[39;00m deprecated\u001b[39m.\u001b[39mitems())\n\u001b[1;32m    164\u001b[0m     warnings\u001b[39m.\u001b[39mwarn(\u001b[39mf\u001b[39m\u001b[39m'\u001b[39m\u001b[39mThe signature of \u001b[39m\u001b[39m{\u001b[39;00mfunc\u001b[39m.\u001b[39m\u001b[39m__name__\u001b[39m\u001b[39m}\u001b[39;00m\u001b[39m will be reduced\u001b[39m\u001b[39m'\u001b[39m\n\u001b[1;32m    165\u001b[0m                   \u001b[39mf\u001b[39m\u001b[39m'\u001b[39m\u001b[39m to \u001b[39m\u001b[39m{\u001b[39;00msupported_number\u001b[39m}\u001b[39;00m\u001b[39m positional args\u001b[39m\u001b[39m'\u001b[39m\n\u001b[1;32m    166\u001b[0m                   \u001b[39mf\u001b[39m\u001b[39m'\u001b[39m\u001b[39m \u001b[39m\u001b[39m{\u001b[39;00m\u001b[39mlist\u001b[39m(supported)\u001b[39m}\u001b[39;00m\u001b[39m: pass \u001b[39m\u001b[39m{\u001b[39;00mwanted\u001b[39m}\u001b[39;00m\u001b[39m'\u001b[39m\n\u001b[1;32m    167\u001b[0m                   \u001b[39m'\u001b[39m\u001b[39m as keyword arg(s)\u001b[39m\u001b[39m'\u001b[39m,\n\u001b[1;32m    168\u001b[0m                   stacklevel\u001b[39m=\u001b[39mstacklevel,\n\u001b[1;32m    169\u001b[0m                   category\u001b[39m=\u001b[39mcategory)\n\u001b[0;32m--> 171\u001b[0m \u001b[39mreturn\u001b[39;00m func(\u001b[39m*\u001b[39margs, \u001b[39m*\u001b[39m\u001b[39m*\u001b[39mkwargs)\n",
      "File \u001b[0;32m~/anaconda3/lib/python3.11/site-packages/graphviz/rendering.py:122\u001b[0m, in \u001b[0;36mRender.render\u001b[0;34m(self, filename, directory, view, cleanup, format, renderer, formatter, neato_no_op, quiet, quiet_view, outfile, engine, raise_if_result_exists, overwrite_source)\u001b[0m\n\u001b[1;32m    118\u001b[0m filepath \u001b[39m=\u001b[39m \u001b[39mself\u001b[39m\u001b[39m.\u001b[39msave(filename, directory\u001b[39m=\u001b[39mdirectory, skip_existing\u001b[39m=\u001b[39m\u001b[39mNone\u001b[39;00m)\n\u001b[1;32m    120\u001b[0m args\u001b[39m.\u001b[39mappend(filepath)\n\u001b[0;32m--> 122\u001b[0m rendered \u001b[39m=\u001b[39m \u001b[39mself\u001b[39m\u001b[39m.\u001b[39m_render(\u001b[39m*\u001b[39margs, \u001b[39m*\u001b[39m\u001b[39m*\u001b[39mkwargs)\n\u001b[1;32m    124\u001b[0m \u001b[39mif\u001b[39;00m cleanup:\n\u001b[1;32m    125\u001b[0m     log\u001b[39m.\u001b[39mdebug(\u001b[39m'\u001b[39m\u001b[39mdelete \u001b[39m\u001b[39m%r\u001b[39;00m\u001b[39m'\u001b[39m, filepath)\n",
      "File \u001b[0;32m~/anaconda3/lib/python3.11/site-packages/graphviz/_tools.py:171\u001b[0m, in \u001b[0;36mdeprecate_positional_args.<locals>.decorator.<locals>.wrapper\u001b[0;34m(*args, **kwargs)\u001b[0m\n\u001b[1;32m    162\u001b[0m     wanted \u001b[39m=\u001b[39m \u001b[39m'\u001b[39m\u001b[39m, \u001b[39m\u001b[39m'\u001b[39m\u001b[39m.\u001b[39mjoin(\u001b[39mf\u001b[39m\u001b[39m'\u001b[39m\u001b[39m{\u001b[39;00mname\u001b[39m}\u001b[39;00m\u001b[39m=\u001b[39m\u001b[39m{\u001b[39;00mvalue\u001b[39m!r}\u001b[39;00m\u001b[39m'\u001b[39m\n\u001b[1;32m    163\u001b[0m                        \u001b[39mfor\u001b[39;00m name, value \u001b[39min\u001b[39;00m deprecated\u001b[39m.\u001b[39mitems())\n\u001b[1;32m    164\u001b[0m     warnings\u001b[39m.\u001b[39mwarn(\u001b[39mf\u001b[39m\u001b[39m'\u001b[39m\u001b[39mThe signature of \u001b[39m\u001b[39m{\u001b[39;00mfunc\u001b[39m.\u001b[39m\u001b[39m__name__\u001b[39m\u001b[39m}\u001b[39;00m\u001b[39m will be reduced\u001b[39m\u001b[39m'\u001b[39m\n\u001b[1;32m    165\u001b[0m                   \u001b[39mf\u001b[39m\u001b[39m'\u001b[39m\u001b[39m to \u001b[39m\u001b[39m{\u001b[39;00msupported_number\u001b[39m}\u001b[39;00m\u001b[39m positional args\u001b[39m\u001b[39m'\u001b[39m\n\u001b[1;32m    166\u001b[0m                   \u001b[39mf\u001b[39m\u001b[39m'\u001b[39m\u001b[39m \u001b[39m\u001b[39m{\u001b[39;00m\u001b[39mlist\u001b[39m(supported)\u001b[39m}\u001b[39;00m\u001b[39m: pass \u001b[39m\u001b[39m{\u001b[39;00mwanted\u001b[39m}\u001b[39;00m\u001b[39m'\u001b[39m\n\u001b[1;32m    167\u001b[0m                   \u001b[39m'\u001b[39m\u001b[39m as keyword arg(s)\u001b[39m\u001b[39m'\u001b[39m,\n\u001b[1;32m    168\u001b[0m                   stacklevel\u001b[39m=\u001b[39mstacklevel,\n\u001b[1;32m    169\u001b[0m                   category\u001b[39m=\u001b[39mcategory)\n\u001b[0;32m--> 171\u001b[0m \u001b[39mreturn\u001b[39;00m func(\u001b[39m*\u001b[39margs, \u001b[39m*\u001b[39m\u001b[39m*\u001b[39mkwargs)\n",
      "File \u001b[0;32m~/anaconda3/lib/python3.11/site-packages/graphviz/backend/rendering.py:324\u001b[0m, in \u001b[0;36mrender\u001b[0;34m(engine, format, filepath, renderer, formatter, neato_no_op, quiet, outfile, raise_if_result_exists, overwrite_filepath)\u001b[0m\n\u001b[1;32m    320\u001b[0m     \u001b[39mraise\u001b[39;00m exceptions\u001b[39m.\u001b[39mFileExistsError(\u001b[39mf\u001b[39m\u001b[39m'\u001b[39m\u001b[39moutput file exists: \u001b[39m\u001b[39m{\u001b[39;00mos\u001b[39m.\u001b[39mfspath(outfile)\u001b[39m!r}\u001b[39;00m\u001b[39m'\u001b[39m)\n\u001b[1;32m    322\u001b[0m cmd \u001b[39m+\u001b[39m\u001b[39m=\u001b[39m args\n\u001b[0;32m--> 324\u001b[0m execute\u001b[39m.\u001b[39mrun_check(cmd,\n\u001b[1;32m    325\u001b[0m                   cwd\u001b[39m=\u001b[39mfilepath\u001b[39m.\u001b[39mparent \u001b[39mif\u001b[39;00m filepath\u001b[39m.\u001b[39mparent\u001b[39m.\u001b[39mparts \u001b[39melse\u001b[39;00m \u001b[39mNone\u001b[39;00m,\n\u001b[1;32m    326\u001b[0m                   quiet\u001b[39m=\u001b[39mquiet,\n\u001b[1;32m    327\u001b[0m                   capture_output\u001b[39m=\u001b[39m\u001b[39mTrue\u001b[39;00m)\n\u001b[1;32m    329\u001b[0m \u001b[39mreturn\u001b[39;00m os\u001b[39m.\u001b[39mfspath(outfile)\n",
      "File \u001b[0;32m~/anaconda3/lib/python3.11/site-packages/graphviz/backend/execute.py:93\u001b[0m, in \u001b[0;36mrun_check\u001b[0;34m(cmd, input_lines, encoding, quiet, **kwargs)\u001b[0m\n\u001b[1;32m     91\u001b[0m     proc\u001b[39m.\u001b[39mcheck_returncode()\n\u001b[1;32m     92\u001b[0m \u001b[39mexcept\u001b[39;00m subprocess\u001b[39m.\u001b[39mCalledProcessError \u001b[39mas\u001b[39;00m e:\n\u001b[0;32m---> 93\u001b[0m     \u001b[39mraise\u001b[39;00m CalledProcessError(\u001b[39m*\u001b[39me\u001b[39m.\u001b[39margs)\n\u001b[1;32m     95\u001b[0m \u001b[39mreturn\u001b[39;00m proc\n",
      "\u001b[0;31mCalledProcessError\u001b[0m: Command '[PosixPath('dot'), '-Kdot', '-Tpng', '-O', 'streamlit_workflow_architecture']' died with <Signals.SIGTRAP: 5>. [stderr: b'Warning: No such file or directory while opening huggingface.png\\nWarning: No or improper image=\"huggingface.png\" for node \"2d861cf0d3684ac0af2a24fb3bde7b3a\"\\nWarning: node \\'2d861cf0d3684ac0af2a24fb3bde7b3a\\', graph \\'Streamlit Workflow Architecture\\' size too small for label\\nWarning: node \\'bfe55b5c9b094495ab6b9fd47562dd91\\', graph \\'Streamlit Workflow Architecture\\' size too small for label\\nWarning: node \\'528906bd64064b5e847f4e722bdd9795\\', graph \\'Streamlit Workflow Architecture\\' size too small for label\\nWarning: node \\'1d95bbe3a1124189a8b5851ff84a41cd\\', graph \\'Streamlit Workflow Architecture\\' size too small for label\\nWarning: node \\'e34caed110b747158b590605fa65231e\\', graph \\'Streamlit Workflow Architecture\\' size too small for label\\nWarning: Orthogonal edges do not currently handle edge labels. Try using xlabels.\\n']"
     ]
    }
   ],
   "source": [
    "from diagrams import Diagram, Cluster, Edge\n",
    "from diagrams.aws.storage import S3\n",
    "from diagrams.onprem.database import PostgreSQL\n",
    "from diagrams.custom import Custom\n",
    "from diagrams.onprem.client import Users\n",
    "from diagrams.programming.flowchart import Decision\n",
    "from diagrams.onprem.analytics import Powerbi\n",
    "\n",
    "# Define file paths for custom icons\n",
    "huggingface_icon = \"hugging_face.avif\"  # Replace with the path to Hugging Face icon\n",
    "openai_icon = \"openai.png\"  # Replace with the path to OpenAI icon\n",
    "streamlit_icon = \"streamlit.png\"  # Replace with the path to Streamlit icon\n",
    "\n",
    "# Create the architecture diagram\n",
    "with Diagram(\"Data Flow Architecture\", show=False):\n",
    "    \n",
    "    # User accessing the Streamlit frontend\n",
    "    user = Users(\"User\")\n",
    "\n",
    "    # Hugging Face for fetching data\n",
    "    huggingface = Custom(\"Hugging Face Dataset\", huggingface_icon)\n",
    "    \n",
    "    # Amazon S3 bucket for storing unstructured data/files\n",
    "    s3_storage = S3(\"Amazon S3 Bucket\")\n",
    "    \n",
    "    # PostgreSQL for structured and unstructured data\n",
    "    db = PostgreSQL(\"PostgreSQL Database\")\n",
    "    \n",
    "    # OpenAI API for interaction and evaluation\n",
    "    openai = Custom(\"OpenAI API\", openai_icon)\n",
    "    \n",
    "    # PowerBI for creating reports and visualizations\n",
    "    powerbi = Powerbi(\"Power BI Analytics\")\n",
    "    \n",
    "    # Streamlit frontend for user interaction\n",
    "    with Cluster(\"Streamlit Frontend\"):\n",
    "        streamlit_app = Custom(\"Streamlit Application\", streamlit_icon)\n",
    "    \n",
    "    # Data flow in the architecture\n",
    "    user >> Edge(label=\"Interacts with\") >> streamlit_app\n",
    "    \n",
    "    # Streamlit App interactions\n",
    "    streamlit_app >> Edge(label=\"Fetches data from\") >> huggingface\n",
    "    streamlit_app >> Edge(label=\"File Storage\") >> s3_storage\n",
    "    streamlit_app >> Edge(label=\"Data Access\") >> db\n",
    "    streamlit_app >> Edge(label=\"Evaluate Model\") >> openai\n",
    "    streamlit_app >> Edge(label=\"Generate Reports\") >> powerbi\n",
    "    \n",
    "    # Data flow between storage and databases\n",
    "    s3_storage >> Edge() >> db"
   ]
  }
 ],
 "metadata": {
  "kernelspec": {
   "display_name": "base",
   "language": "python",
   "name": "python3"
  },
  "language_info": {
   "codemirror_mode": {
    "name": "ipython",
    "version": 3
   },
   "file_extension": ".py",
   "mimetype": "text/x-python",
   "name": "python",
   "nbconvert_exporter": "python",
   "pygments_lexer": "ipython3",
   "version": "3.11.5"
  }
 },
 "nbformat": 4,
 "nbformat_minor": 2
}
